{
 "cells": [
  {
   "cell_type": "code",
   "execution_count": 1,
   "metadata": {},
   "outputs": [],
   "source": [
    "import time\n",
    "from pyspark.sql import SparkSession\n",
    "from pyspark.sql import SQLContext\n",
    "from re import sub\n",
    "\n",
    "spark_session = SparkSession\\\n",
    "            .builder\\\n",
    "            .master(\"spark://192.168.2.75:7077\")\\\n",
    "            .config(\"spark.cores.max\", 1)\\\n",
    "            .appName(\"time_check\")\\\n",
    "            .config(\"spark.executor.cores\",1)\\\n",
    "            .config(\"spark.sql.broadcastTimeout\", 36000)\\\n",
    "            .getOrCreate()\n",
    "\n",
    "spark_context = spark_session.sparkContext\n",
    "\n",
    "io_start = time.time()\n",
    "df1 =  spark_session.read.json('hdfs://192.168.2.75:9000/reddit_data/4gb_data/RC_2014-03.bz2')\n",
    "io_1_cores = time.time() - io_start\n",
    "\n",
    "start_time = time.time()\n",
    "df5 = df1.select(\"author\",\"subreddit\")\\\n",
    "        .groupBy(\"subreddit\")\\\n",
    "        .count()\\\n",
    "        .orderBy([\"count\"],ascending=False)\\\n",
    "        .limit(5)\n",
    "\n",
    "def map_values(subreddit,string):\n",
    "    string_out = sub(r'[^A-Za-z0-9 \\'/]+', u'', string.lower())\n",
    "    string_out = string_out.split(' ')\n",
    "    entry_list = []\n",
    "    for entry in string_out:\n",
    "        entry_list.append([(subreddit,entry),1])\n",
    "    return (entry_list)\n",
    "\n",
    "rdd1 = df5.join(df1.select(\"subreddit\",\"body\"),df5.subreddit==df1.subreddit)\\\n",
    "        .select(df1.subreddit,\"body\").rdd\\\n",
    "        .flatMap(lambda x: map_values(x[0],x[1]))\\\n",
    "        .reduceByKey(lambda x,y:x+y)\\\n",
    "        .sortBy(lambda x:x[1],ascending=False)\n",
    "\n",
    "stop_time = time.time()\n",
    "time_1_cores = stop_time - start_time\n",
    "spark_session.stop()"
   ]
  },
  {
   "cell_type": "code",
   "execution_count": 3,
   "metadata": {},
   "outputs": [
    {
     "name": "stdout",
     "output_type": "stream",
     "text": [
      "1688.0167055130005 2999.910537004471\n"
     ]
    }
   ],
   "source": [
    "print (io_1_cores,time_1_cores)"
   ]
  },
  {
   "cell_type": "code",
   "execution_count": 2,
   "metadata": {},
   "outputs": [],
   "source": [
    "import time\n",
    "from pyspark.sql import SparkSession\n",
    "from pyspark.sql import SQLContext\n",
    "from re import sub\n",
    "\n",
    "spark_session = SparkSession\\\n",
    "            .builder\\\n",
    "            .master(\"spark://192.168.2.75:7077\")\\\n",
    "            .config(\"spark.cores.max\", 2)\\\n",
    "            .appName(\"time_check\")\\\n",
    "            .config(\"spark.executor.cores\",1)\\\n",
    "            .config(\"spark.sql.broadcastTimeout\", 36000)\\\n",
    "            .getOrCreate()\n",
    "\n",
    "spark_context = spark_session.sparkContext\n",
    "\n",
    "io_start = time.time()\n",
    "df1 =  spark_session.read.json('hdfs://192.168.2.75:9000/reddit_data/4gb_data/RC_2014-03.bz2')\n",
    "io_2_cores = time.time() - io_start\n",
    "\n",
    "start_time = time.time()\n",
    "df5 = df1.select(\"author\",\"subreddit\")\\\n",
    "        .groupBy(\"subreddit\")\\\n",
    "        .count()\\\n",
    "        .orderBy([\"count\"],ascending=False)\\\n",
    "        .limit(5)\n",
    "\n",
    "def map_values(subreddit,string):\n",
    "    string_out = sub(r'[^A-Za-z0-9 \\'/]+', u'', string.lower())\n",
    "    string_out = string_out.split(' ')\n",
    "    entry_list = []\n",
    "    for entry in string_out:\n",
    "        entry_list.append([(subreddit,entry),1])\n",
    "    return (entry_list)\n",
    "\n",
    "rdd1 = df5.join(df1.select(\"subreddit\",\"body\"),df5.subreddit==df1.subreddit)\\\n",
    "        .select(df1.subreddit,\"body\").rdd\\\n",
    "        .flatMap(lambda x: map_values(x[0],x[1]))\\\n",
    "        .reduceByKey(lambda x,y:x+y)\\\n",
    "        .sortBy(lambda x:x[1],ascending=False)\n",
    "\n",
    "stop_time = time.time()\n",
    "time_2_cores = stop_time - start_time\n",
    "spark_session.stop()"
   ]
  },
  {
   "cell_type": "code",
   "execution_count": 4,
   "metadata": {},
   "outputs": [
    {
     "name": "stdout",
     "output_type": "stream",
     "text": [
      "906.8096690177917 1593.3218829631805\n"
     ]
    }
   ],
   "source": [
    "print (io_2_cores,time_2_cores)"
   ]
  },
  {
   "cell_type": "code",
   "execution_count": 5,
   "metadata": {},
   "outputs": [],
   "source": [
    "import time\n",
    "from pyspark.sql import SparkSession\n",
    "from pyspark.sql import SQLContext\n",
    "from re import sub\n",
    "\n",
    "spark_session = SparkSession\\\n",
    "            .builder\\\n",
    "            .master(\"spark://192.168.2.75:7077\")\\\n",
    "            .config(\"spark.cores.max\", 4)\\\n",
    "            .appName(\"time_check\")\\\n",
    "            .config(\"spark.executor.cores\",1)\\\n",
    "            .getOrCreate()\n",
    "\n",
    "spark_context = spark_session.sparkContext\n",
    "\n",
    "io_start = time.time()\n",
    "df1 =  spark_session.read.json('hdfs://192.168.2.75:9000/reddit_data/4gb_data/RC_2014-03.bz2')\n",
    "io_4_cores = time.time() - io_start\n",
    "\n",
    "start_time = time.time()\n",
    "df5 = df1.select(\"author\",\"subreddit\")\\\n",
    "        .groupBy(\"subreddit\")\\\n",
    "        .count()\\\n",
    "        .orderBy([\"count\"],ascending=False)\\\n",
    "        .limit(5)\n",
    "\n",
    "def map_values(subreddit,string):\n",
    "    string_out = sub(r'[^A-Za-z0-9 \\'/]+', u'', string.lower())\n",
    "    string_out = string_out.split(' ')\n",
    "    entry_list = []\n",
    "    for entry in string_out:\n",
    "        entry_list.append([(subreddit,entry),1])\n",
    "    return (entry_list)\n",
    "\n",
    "rdd1 = df5.join(df1.select(\"subreddit\",\"body\"),df5.subreddit==df1.subreddit)\\\n",
    "        .select(df1.subreddit,\"body\").rdd\\\n",
    "        .flatMap(lambda x: map_values(x[0],x[1]))\\\n",
    "        .reduceByKey(lambda x,y:x+y)\\\n",
    "        .sortBy(lambda x:x[1],ascending=False)\n",
    "\n",
    "stop_time = time.time()\n",
    "time_4_cores = stop_time - start_time\n",
    "spark_session.stop()"
   ]
  },
  {
   "cell_type": "code",
   "execution_count": 6,
   "metadata": {},
   "outputs": [
    {
     "name": "stdout",
     "output_type": "stream",
     "text": [
      "457.51735043525696 801.2693011760712\n"
     ]
    }
   ],
   "source": [
    "print (io_4_cores,time_4_cores)"
   ]
  },
  {
   "cell_type": "code",
   "execution_count": 7,
   "metadata": {},
   "outputs": [],
   "source": [
    "import time\n",
    "from pyspark.sql import SparkSession\n",
    "from pyspark.sql import SQLContext\n",
    "from re import sub\n",
    "\n",
    "spark_session = SparkSession\\\n",
    "            .builder\\\n",
    "            .master(\"spark://192.168.2.75:7077\")\\\n",
    "            .config(\"spark.cores.max\", 8)\\\n",
    "            .appName(\"time_check\")\\\n",
    "            .config(\"spark.executor.cores\",2)\\\n",
    "            .getOrCreate()\n",
    "\n",
    "spark_context = spark_session.sparkContext\n",
    "\n",
    "io_start = time.time()\n",
    "df1 =  spark_session.read.json('hdfs://192.168.2.75:9000/reddit_data/4gb_data/RC_2014-03.bz2')\n",
    "io_8_cores = time.time() - io_start\n",
    "\n",
    "start_time = time.time()\n",
    "df5 = df1.select(\"author\",\"subreddit\")\\\n",
    "        .groupBy(\"subreddit\")\\\n",
    "        .count()\\\n",
    "        .orderBy([\"count\"],ascending=False)\\\n",
    "        .limit(5)\n",
    "\n",
    "def map_values(subreddit,string):\n",
    "    string_out = sub(r'[^A-Za-z0-9 \\'/]+', u'', string.lower())\n",
    "    string_out = string_out.split(' ')\n",
    "    entry_list = []\n",
    "    for entry in string_out:\n",
    "        entry_list.append([(subreddit,entry),1])\n",
    "    return (entry_list)\n",
    "\n",
    "rdd1 = df5.join(df1.select(\"subreddit\",\"body\"),df5.subreddit==df1.subreddit)\\\n",
    "        .select(df1.subreddit,\"body\").rdd\\\n",
    "        .flatMap(lambda x: map_values(x[0],x[1]))\\\n",
    "        .reduceByKey(lambda x,y:x+y)\\\n",
    "        .sortBy(lambda x:x[1],ascending=False)\n",
    "\n",
    "stop_time = time.time()\n",
    "time_8_cores = stop_time - start_time\n",
    "spark_session.stop()"
   ]
  },
  {
   "cell_type": "code",
   "execution_count": 8,
   "metadata": {},
   "outputs": [
    {
     "name": "stdout",
     "output_type": "stream",
     "text": [
      "238.20263814926147 423.29642486572266\n"
     ]
    }
   ],
   "source": [
    "print (io_8_cores,time_8_cores)"
   ]
  },
  {
   "cell_type": "code",
   "execution_count": 9,
   "metadata": {},
   "outputs": [],
   "source": [
    "import time\n",
    "from pyspark.sql import SparkSession\n",
    "from pyspark.sql import SQLContext\n",
    "from re import sub\n",
    "\n",
    "spark_session = SparkSession\\\n",
    "            .builder\\\n",
    "            .master(\"spark://192.168.2.75:7077\")\\\n",
    "            .config(\"spark.cores.max\", 16)\\\n",
    "            .appName(\"time_check\")\\\n",
    "            .config(\"spark.executor.cores\",4)\\\n",
    "            .getOrCreate()\n",
    "\n",
    "spark_context = spark_session.sparkContext\n",
    "\n",
    "io_start = time.time()\n",
    "df1 =  spark_session.read.json('hdfs://192.168.2.75:9000/reddit_data/4gb_data/RC_2014-03.bz2')\n",
    "io_16_cores = time.time() - io_start\n",
    "\n",
    "start_time = time.time()\n",
    "df5 = df1.select(\"author\",\"subreddit\")\\\n",
    "        .groupBy(\"subreddit\")\\\n",
    "        .count()\\\n",
    "        .orderBy([\"count\"],ascending=False)\\\n",
    "        .limit(5)\n",
    "\n",
    "def map_values(subreddit,string):\n",
    "    string_out = sub(r'[^A-Za-z0-9 \\'/]+', u'', string.lower())\n",
    "    string_out = string_out.split(' ')\n",
    "    entry_list = []\n",
    "    for entry in string_out:\n",
    "        entry_list.append([(subreddit,entry),1])\n",
    "    return (entry_list)\n",
    "\n",
    "rdd1 = df5.join(df1.select(\"subreddit\",\"body\"),df5.subreddit==df1.subreddit)\\\n",
    "        .select(df1.subreddit,\"body\").rdd\\\n",
    "        .flatMap(lambda x: map_values(x[0],x[1]))\\\n",
    "        .reduceByKey(lambda x,y:x+y)\\\n",
    "        .sortBy(lambda x:x[1],ascending=False)\n",
    "\n",
    "stop_time = time.time()\n",
    "time_16_cores = stop_time - start_time\n",
    "spark_session.stop()"
   ]
  },
  {
   "cell_type": "code",
   "execution_count": 10,
   "metadata": {},
   "outputs": [
    {
     "name": "stdout",
     "output_type": "stream",
     "text": [
      "149.18144512176514 263.9991545677185\n"
     ]
    }
   ],
   "source": [
    "print (io_16_cores,time_16_cores)"
   ]
  },
  {
   "cell_type": "code",
   "execution_count": 11,
   "metadata": {},
   "outputs": [
    {
     "name": "stdout",
     "output_type": "stream",
     "text": [
      "4gb data \n",
      "Cores,Execution_time \n",
      "1, 2999.910537004471 \n",
      "2, 1593.3218829631805 \n",
      "4, 801.2693011760712 \n",
      "8, 423.29642486572266 \n",
      "16, 263.9991545677185\n"
     ]
    }
   ],
   "source": [
    "print (\"4gb data\",\"\\nCores,Execution_time\",\"\\n1,\",time_1_cores,\"\\n2,\",time_2_cores,\"\\n4,\",time_4_cores,\"\\n8,\",time_8_cores,\"\\n16,\",time_16_cores)"
   ]
  },
  {
   "cell_type": "code",
   "execution_count": 12,
   "metadata": {},
   "outputs": [
    {
     "name": "stdout",
     "output_type": "stream",
     "text": [
      "4gb data \n",
      "Cores,io_time \n",
      "1, 1688.0167055130005 \n",
      "2, 906.8096690177917 \n",
      "4, 457.51735043525696 \n",
      "8, 238.20263814926147 \n",
      "16, 149.18144512176514\n"
     ]
    }
   ],
   "source": [
    "print (\"4gb data\",\"\\nCores,io_time\",\"\\n1,\",io_1_cores,\"\\n2,\",io_2_cores,\"\\n4,\",io_4_cores,\"\\n8,\",io_8_cores,\"\\n16,\",io_16_cores)"
   ]
  },
  {
   "cell_type": "code",
   "execution_count": null,
   "metadata": {},
   "outputs": [],
   "source": []
  }
 ],
 "metadata": {
  "kernelspec": {
   "display_name": "Python 3",
   "language": "python",
   "name": "python3"
  },
  "language_info": {
   "codemirror_mode": {
    "name": "ipython",
    "version": 3
   },
   "file_extension": ".py",
   "mimetype": "text/x-python",
   "name": "python",
   "nbconvert_exporter": "python",
   "pygments_lexer": "ipython3",
   "version": "3.6.9"
  }
 },
 "nbformat": 4,
 "nbformat_minor": 4
}
