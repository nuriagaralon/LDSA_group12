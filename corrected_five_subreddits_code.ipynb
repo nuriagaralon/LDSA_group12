{
 "cells": [
  {
   "cell_type": "code",
   "execution_count": 8,
   "metadata": {},
   "outputs": [],
   "source": [
    "import time\n",
    "from pyspark.sql import SparkSession\n",
    "from pyspark.sql import SQLContext\n",
    "\n",
    "spark_session = SparkSession\\\n",
    "            .builder\\\n",
    "            .master(\"spark://192.168.2.75:7077\")\\\n",
    "            .appName(\"time_check\")\\\n",
    "            .config(\"spark.executor.cores\",4)\\\n",
    "            .getOrCreate()\n",
    "\n",
    "spark_context = spark_session.sparkContext\n",
    "\n",
    "df1 =  spark_session.read.json('hdfs://192.168.2.75:9000/reddit_data/500mb_data/RC_2010-11.bz2')"
   ]
  },
  {
   "cell_type": "code",
   "execution_count": 9,
   "metadata": {},
   "outputs": [
    {
     "name": "stdout",
     "output_type": "stream",
     "text": [
      "56.57413649559021\n"
     ]
    }
   ],
   "source": [
    "from re import sub\n",
    "\n",
    "start_time = time.time()\n",
    "df5 = df1.select(\"author\",\"subreddit\")\\\n",
    "        .groupBy(\"subreddit\")\\\n",
    "        .count()\\\n",
    "        .orderBy([\"count\"],ascending=False)\\\n",
    "        .limit(5)\n",
    "\n",
    "def map_values(subreddit,string):\n",
    "    string_out = sub(r'[^A-Za-z0-9 \\'/]+', u'', string.lower())\n",
    "    string_out = string_out.split(' ')\n",
    "    entry_list = []\n",
    "    for entry in string_out:\n",
    "        entry_list.append([(subreddit,entry),1])\n",
    "    return (entry_list)\n",
    "\n",
    "rdd1 = df5.join(df1.select(\"subreddit\",\"body\"),df5.subreddit==df1.subreddit)\\\n",
    "        .select(df1.subreddit,\"body\").rdd\\\n",
    "        .flatMap(lambda x: map_values(x[0],x[1]))\\\n",
    "        .reduceByKey(lambda x,y:x+y)\\\n",
    "        .sortBy(lambda x:x[1],ascending=False)\n",
    "\n",
    "stop_time = time.time()\n",
    "time_4_cores = stop_time - start_time\n",
    "print (time_4_cores)"
   ]
  },
  {
   "cell_type": "code",
   "execution_count": 7,
   "metadata": {},
   "outputs": [],
   "source": [
    "spark_session.stop()"
   ]
  },
  {
   "cell_type": "code",
   "execution_count": null,
   "metadata": {},
   "outputs": [],
   "source": []
  }
 ],
 "metadata": {
  "kernelspec": {
   "display_name": "Python 3",
   "language": "python",
   "name": "python3"
  },
  "language_info": {
   "codemirror_mode": {
    "name": "ipython",
    "version": 3
   },
   "file_extension": ".py",
   "mimetype": "text/x-python",
   "name": "python",
   "nbconvert_exporter": "python",
   "pygments_lexer": "ipython3",
   "version": "3.6.9"
  }
 },
 "nbformat": 4,
 "nbformat_minor": 4
}
