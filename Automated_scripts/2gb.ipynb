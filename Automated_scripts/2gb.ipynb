{
 "cells": [
  {
   "cell_type": "code",
   "execution_count": 1,
   "metadata": {},
   "outputs": [],
   "source": [
    "import time\n",
    "from pyspark.sql import SparkSession\n",
    "from pyspark.sql import SQLContext\n",
    "from re import sub\n",
    "\n",
    "spark_session = SparkSession\\\n",
    "            .builder\\\n",
    "            .master(\"spark://192.168.2.75:7077\")\\\n",
    "            .config(\"spark.cores.max\", 1)\\\n",
    "            .appName(\"time_check\")\\\n",
    "            .config(\"spark.executor.cores\",1)\\\n",
    "            .config(\"spark.sql.broadcastTimeout\", 36000)\\\n",
    "            .getOrCreate()\n",
    "\n",
    "spark_context = spark_session.sparkContext\n",
    "\n",
    "io_start = time.time()\n",
    "df1 =  spark_session.read.json('hdfs://192.168.2.75:9000/reddit_data/2gb_data/RC_2012-07.bz2')\n",
    "io_1_cores = time.time() - io_start\n",
    "\n",
    "start_time = time.time()\n",
    "df5 = df1.select(\"author\",\"subreddit\")\\\n",
    "        .groupBy(\"subreddit\")\\\n",
    "        .count()\\\n",
    "        .orderBy([\"count\"],ascending=False)\\\n",
    "        .limit(5)\n",
    "\n",
    "def map_values(subreddit,string):\n",
    "    string_out = sub(r'[^A-Za-z0-9 \\'/]+', u'', string.lower())\n",
    "    string_out = string_out.split(' ')\n",
    "    entry_list = []\n",
    "    for entry in string_out:\n",
    "        entry_list.append([(subreddit,entry),1])\n",
    "    return (entry_list)\n",
    "\n",
    "rdd1 = df5.join(df1.select(\"subreddit\",\"body\"),df5.subreddit==df1.subreddit)\\\n",
    "        .select(df1.subreddit,\"body\").rdd\\\n",
    "        .flatMap(lambda x: map_values(x[0],x[1]))\\\n",
    "        .reduceByKey(lambda x,y:x+y)\\\n",
    "        .sortBy(lambda x:x[1],ascending=False)\n",
    "\n",
    "stop_time = time.time()\n",
    "time_1_cores = stop_time - start_time\n",
    "spark_session.stop()"
   ]
  },
  {
   "cell_type": "code",
   "execution_count": 6,
   "metadata": {},
   "outputs": [
    {
     "name": "stdout",
     "output_type": "stream",
     "text": [
      "921.441525220871 1681.405324459076\n"
     ]
    }
   ],
   "source": [
    "print (io_1_cores,time_1_cores)"
   ]
  },
  {
   "cell_type": "code",
   "execution_count": 2,
   "metadata": {},
   "outputs": [],
   "source": [
    "import time\n",
    "from pyspark.sql import SparkSession\n",
    "from pyspark.sql import SQLContext\n",
    "from re import sub\n",
    "\n",
    "spark_session = SparkSession\\\n",
    "            .builder\\\n",
    "            .master(\"spark://192.168.2.75:7077\")\\\n",
    "            .config(\"spark.cores.max\", 2)\\\n",
    "            .appName(\"time_check\")\\\n",
    "            .config(\"spark.executor.cores\",1)\\\n",
    "            .config(\"spark.sql.broadcastTimeout\", 36000)\\\n",
    "            .getOrCreate()\n",
    "\n",
    "spark_context = spark_session.sparkContext\n",
    "\n",
    "io_start = time.time()\n",
    "df1 =  spark_session.read.json('hdfs://192.168.2.75:9000/reddit_data/2gb_data/RC_2012-07.bz2')\n",
    "io_2_cores = time.time() - io_start\n",
    "\n",
    "start_time = time.time()\n",
    "df5 = df1.select(\"author\",\"subreddit\")\\\n",
    "        .groupBy(\"subreddit\")\\\n",
    "        .count()\\\n",
    "        .orderBy([\"count\"],ascending=False)\\\n",
    "        .limit(5)\n",
    "\n",
    "def map_values(subreddit,string):\n",
    "    string_out = sub(r'[^A-Za-z0-9 \\'/]+', u'', string.lower())\n",
    "    string_out = string_out.split(' ')\n",
    "    entry_list = []\n",
    "    for entry in string_out:\n",
    "        entry_list.append([(subreddit,entry),1])\n",
    "    return (entry_list)\n",
    "\n",
    "rdd1 = df5.join(df1.select(\"subreddit\",\"body\"),df5.subreddit==df1.subreddit)\\\n",
    "        .select(df1.subreddit,\"body\").rdd\\\n",
    "        .flatMap(lambda x: map_values(x[0],x[1]))\\\n",
    "        .reduceByKey(lambda x,y:x+y)\\\n",
    "        .sortBy(lambda x:x[1],ascending=False)\n",
    "\n",
    "stop_time = time.time()\n",
    "time_2_cores = stop_time - start_time\n",
    "spark_session.stop()"
   ]
  },
  {
   "cell_type": "code",
   "execution_count": 7,
   "metadata": {},
   "outputs": [
    {
     "name": "stdout",
     "output_type": "stream",
     "text": [
      "484.9145119190216 876.9717013835907\n"
     ]
    }
   ],
   "source": [
    "print (io_2_cores,time_2_cores)"
   ]
  },
  {
   "cell_type": "code",
   "execution_count": 3,
   "metadata": {},
   "outputs": [],
   "source": [
    "import time\n",
    "from pyspark.sql import SparkSession\n",
    "from pyspark.sql import SQLContext\n",
    "from re import sub\n",
    "\n",
    "spark_session = SparkSession\\\n",
    "            .builder\\\n",
    "            .master(\"spark://192.168.2.75:7077\")\\\n",
    "            .config(\"spark.cores.max\", 4)\\\n",
    "            .appName(\"time_check\")\\\n",
    "            .config(\"spark.executor.cores\",1)\\\n",
    "            .getOrCreate()\n",
    "\n",
    "spark_context = spark_session.sparkContext\n",
    "\n",
    "io_start = time.time()\n",
    "df1 =  spark_session.read.json('hdfs://192.168.2.75:9000/reddit_data/2gb_data/RC_2012-07.bz2')\n",
    "io_4_cores = time.time() - io_start\n",
    "\n",
    "start_time = time.time()\n",
    "df5 = df1.select(\"author\",\"subreddit\")\\\n",
    "        .groupBy(\"subreddit\")\\\n",
    "        .count()\\\n",
    "        .orderBy([\"count\"],ascending=False)\\\n",
    "        .limit(5)\n",
    "\n",
    "def map_values(subreddit,string):\n",
    "    string_out = sub(r'[^A-Za-z0-9 \\'/]+', u'', string.lower())\n",
    "    string_out = string_out.split(' ')\n",
    "    entry_list = []\n",
    "    for entry in string_out:\n",
    "        entry_list.append([(subreddit,entry),1])\n",
    "    return (entry_list)\n",
    "\n",
    "rdd1 = df5.join(df1.select(\"subreddit\",\"body\"),df5.subreddit==df1.subreddit)\\\n",
    "        .select(df1.subreddit,\"body\").rdd\\\n",
    "        .flatMap(lambda x: map_values(x[0],x[1]))\\\n",
    "        .reduceByKey(lambda x,y:x+y)\\\n",
    "        .sortBy(lambda x:x[1],ascending=False)\n",
    "\n",
    "stop_time = time.time()\n",
    "time_4_cores = stop_time - start_time\n",
    "spark_session.stop()"
   ]
  },
  {
   "cell_type": "code",
   "execution_count": 8,
   "metadata": {},
   "outputs": [
    {
     "name": "stdout",
     "output_type": "stream",
     "text": [
      "261.5301480293274 462.3293960094452\n"
     ]
    }
   ],
   "source": [
    "print (io_4_cores,time_4_cores)"
   ]
  },
  {
   "cell_type": "code",
   "execution_count": 1,
   "metadata": {},
   "outputs": [],
   "source": [
    "import time\n",
    "from pyspark.sql import SparkSession\n",
    "from pyspark.sql import SQLContext\n",
    "from re import sub\n",
    "\n",
    "spark_session = SparkSession\\\n",
    "            .builder\\\n",
    "            .master(\"spark://192.168.2.75:7077\")\\\n",
    "            .config(\"spark.cores.max\", 8)\\\n",
    "            .appName(\"time_check\")\\\n",
    "            .config(\"spark.executor.cores\",2)\\\n",
    "            .getOrCreate()\n",
    "\n",
    "spark_context = spark_session.sparkContext\n",
    "\n",
    "io_start = time.time()\n",
    "df1 =  spark_session.read.json('hdfs://192.168.2.75:9000/reddit_data/2gb_data/RC_2012-07.bz2')\n",
    "io_8_cores = time.time() - io_start\n",
    "\n",
    "start_time = time.time()\n",
    "df5 = df1.select(\"author\",\"subreddit\")\\\n",
    "        .groupBy(\"subreddit\")\\\n",
    "        .count()\\\n",
    "        .orderBy([\"count\"],ascending=False)\\\n",
    "        .limit(5)\n",
    "\n",
    "def map_values(subreddit,string):\n",
    "    string_out = sub(r'[^A-Za-z0-9 \\'/]+', u'', string.lower())\n",
    "    string_out = string_out.split(' ')\n",
    "    entry_list = []\n",
    "    for entry in string_out:\n",
    "        entry_list.append([(subreddit,entry),1])\n",
    "    return (entry_list)\n",
    "\n",
    "rdd1 = df5.join(df1.select(\"subreddit\",\"body\"),df5.subreddit==df1.subreddit)\\\n",
    "        .select(df1.subreddit,\"body\").rdd\\\n",
    "        .flatMap(lambda x: map_values(x[0],x[1]))\\\n",
    "        .reduceByKey(lambda x,y:x+y)\\\n",
    "        .sortBy(lambda x:x[1],ascending=False)\n",
    "\n",
    "stop_time = time.time()\n",
    "time_8_cores = stop_time - start_time\n",
    "spark_session.stop()"
   ]
  },
  {
   "cell_type": "code",
   "execution_count": 2,
   "metadata": {},
   "outputs": [
    {
     "name": "stdout",
     "output_type": "stream",
     "text": [
      "163.22697472572327 281.4573793411255\n"
     ]
    }
   ],
   "source": [
    "print (io_8_cores,time_8_cores)"
   ]
  },
  {
   "cell_type": "code",
   "execution_count": 3,
   "metadata": {},
   "outputs": [],
   "source": [
    "import time\n",
    "from pyspark.sql import SparkSession\n",
    "from pyspark.sql import SQLContext\n",
    "from re import sub\n",
    "\n",
    "spark_session = SparkSession\\\n",
    "            .builder\\\n",
    "            .master(\"spark://192.168.2.75:7077\")\\\n",
    "            .config(\"spark.cores.max\", 16)\\\n",
    "            .appName(\"time_check\")\\\n",
    "            .config(\"spark.executor.cores\",4)\\\n",
    "            .getOrCreate()\n",
    "\n",
    "spark_context = spark_session.sparkContext\n",
    "\n",
    "io_start = time.time()\n",
    "df1 =  spark_session.read.json('hdfs://192.168.2.75:9000/reddit_data/2gb_data/RC_2012-07.bz2')\n",
    "io_16_cores = time.time() - io_start\n",
    "\n",
    "start_time = time.time()\n",
    "df5 = df1.select(\"author\",\"subreddit\")\\\n",
    "        .groupBy(\"subreddit\")\\\n",
    "        .count()\\\n",
    "        .orderBy([\"count\"],ascending=False)\\\n",
    "        .limit(5)\n",
    "\n",
    "def map_values(subreddit,string):\n",
    "    string_out = sub(r'[^A-Za-z0-9 \\'/]+', u'', string.lower())\n",
    "    string_out = string_out.split(' ')\n",
    "    entry_list = []\n",
    "    for entry in string_out:\n",
    "        entry_list.append([(subreddit,entry),1])\n",
    "    return (entry_list)\n",
    "\n",
    "rdd1 = df5.join(df1.select(\"subreddit\",\"body\"),df5.subreddit==df1.subreddit)\\\n",
    "        .select(df1.subreddit,\"body\").rdd\\\n",
    "        .flatMap(lambda x: map_values(x[0],x[1]))\\\n",
    "        .reduceByKey(lambda x,y:x+y)\\\n",
    "        .sortBy(lambda x:x[1],ascending=False)\n",
    "\n",
    "stop_time = time.time()\n",
    "time_16_cores = stop_time - start_time\n",
    "spark_session.stop()"
   ]
  },
  {
   "cell_type": "code",
   "execution_count": 4,
   "metadata": {},
   "outputs": [
    {
     "name": "stdout",
     "output_type": "stream",
     "text": [
      "116.71150422096252 205.55653715133667\n"
     ]
    }
   ],
   "source": [
    "print (io_16_cores,time_16_cores)"
   ]
  },
  {
   "cell_type": "code",
   "execution_count": 5,
   "metadata": {},
   "outputs": [
    {
     "ename": "NameError",
     "evalue": "name 'time_8_cores' is not defined",
     "output_type": "error",
     "traceback": [
      "\u001b[0;31m---------------------------------------------------------------------------\u001b[0m",
      "\u001b[0;31mNameError\u001b[0m                                 Traceback (most recent call last)",
      "\u001b[0;32m<ipython-input-5-fa951f2ba0f2>\u001b[0m in \u001b[0;36m<module>\u001b[0;34m\u001b[0m\n\u001b[0;32m----> 1\u001b[0;31m \u001b[0mprint\u001b[0m \u001b[0;34m(\u001b[0m\u001b[0;34m\"2gb data\"\u001b[0m\u001b[0;34m,\u001b[0m\u001b[0;34m\"\\nCores,Execution_time\"\u001b[0m\u001b[0;34m,\u001b[0m\u001b[0;34m\"\\n1,\"\u001b[0m\u001b[0;34m,\u001b[0m\u001b[0mtime_1_cores\u001b[0m\u001b[0;34m,\u001b[0m\u001b[0;34m\"\\n2,\"\u001b[0m\u001b[0;34m,\u001b[0m\u001b[0mtime_2_cores\u001b[0m\u001b[0;34m,\u001b[0m\u001b[0;34m\"\\n4,\"\u001b[0m\u001b[0;34m,\u001b[0m\u001b[0mtime_4_cores\u001b[0m\u001b[0;34m,\u001b[0m\u001b[0;34m\"\\n8,\"\u001b[0m\u001b[0;34m,\u001b[0m\u001b[0mtime_8_cores\u001b[0m\u001b[0;34m,\u001b[0m\u001b[0;34m\"\\n16,\"\u001b[0m\u001b[0;34m,\u001b[0m\u001b[0mtime_16_cores\u001b[0m\u001b[0;34m)\u001b[0m\u001b[0;34m\u001b[0m\u001b[0;34m\u001b[0m\u001b[0m\n\u001b[0m",
      "\u001b[0;31mNameError\u001b[0m: name 'time_8_cores' is not defined"
     ]
    }
   ],
   "source": [
    "print (\"2gb data\",\"\\nCores,Execution_time\",\"\\n1,\",time_1_cores,\"\\n2,\",time_2_cores,\"\\n4,\",time_4_cores,\"\\n8,\",time_8_cores,\"\\n16,\",time_16_cores)"
   ]
  },
  {
   "cell_type": "code",
   "execution_count": null,
   "metadata": {},
   "outputs": [],
   "source": [
    "print (\"2gb data\",\"\\nCores,io_time\",\"\\n1,\",io_1_cores,\"\\n2,\",io_2_cores,\"\\n4,\",io_4_cores,\"\\n8,\",io_8_cores,\"\\n16,\",io_16_cores)"
   ]
  },
  {
   "cell_type": "code",
   "execution_count": null,
   "metadata": {},
   "outputs": [],
   "source": []
  }
 ],
 "metadata": {
  "kernelspec": {
   "display_name": "Python 3",
   "language": "python",
   "name": "python3"
  },
  "language_info": {
   "codemirror_mode": {
    "name": "ipython",
    "version": 3
   },
   "file_extension": ".py",
   "mimetype": "text/x-python",
   "name": "python",
   "nbconvert_exporter": "python",
   "pygments_lexer": "ipython3",
   "version": "3.6.9"
  }
 },
 "nbformat": 4,
 "nbformat_minor": 4
}
